pip install qrcode

import qrcode



from tkinter import *
from tkinter import messagebox



window = Tk()
window.title('QR Code')
window.geometry('700x700')
window.config(bg='gray')

# Function QR code 
def create_code():
    # QRCode objectsize 
    qrc = qrcode.QRCode(version = size_entry.get(),box_size = 10, border = 5) 
     #the data to the QRCode object
    qrc.add_data(text_entry.get())
    qrc.make(fit = True) 
    # Creating QR Code
    img = qrc.make_image() 
     # directory where file need to be save 
    file_dir = location_entry.get()+'\\'+name_entry.get()
    img.save(f'{file_dir}.png') # Saving the QR Code
    # Save pop up message
    messagebox.showinfo("QR Code Generator", "QR Code saved successfully")

# Labeling for windows screen 
header_frame = Frame(window, bg="lightblue", bd=5)
header_frame.place(relx=0.15, rely=0.05, relwidth=0.7, relheight=0.1)
header_label = Label(header_frame, text="Generate QR Code", bg='Skyblue', font=('Times',20,'bold'))
header_label.place(relx=0,rely=0, relwidth=1, relheight=1)


# User Input from form 
text_frame = Frame(window, bg="gray")
text_frame.place(relx=0.1, rely=0.15, relwidth=0.7, relheight=0.3)
    
text_label = Label(text_frame, text="Enter the text/URL: ", bg="gray", fg='white', font=('Arial',13,'bold'))
text_label.place(relx=0.05, rely=0.2, relheight=0.08)

text_entry = Entry(text_frame, font=('Arial 12'))
text_entry.place(relx=0.05, rely=0.4, relwidth=1, relheight=0.2)

# location/ browse to save QR Code
location_frame = Frame(window, bg="gray")
location_frame.place(relx=0.1, rely=0.35, relwidth=0.7, relheight=0.3)

location_label = Label(location_frame, text="Enter the location to save the QR Code: "
                       , bg="gray", fg='azure', font=('Arial',13,'bold'))
location_label.place(relx=0.05, rely=0.2, relheight=0.08)

location_entry = Entry(location_frame, font=('Arial 12'))
location_label.place(relx=0.05,rely=0.4, relwidth=1, relheight=0.2)

location_Frame2 = Frame(window,bg="gray")
location_Frame2.place(relx=0.1,rely=0.35,relwidth=0.7,relheight=0.3)

location_lable2 = Label(location_Frame2,text="Location to save the QR Code ",
               bg="gray",fg='azure',font=('Courier',13,'bold'))
location_lable2.place(relx=0.05,rely=0.2, relheight=0.08)

location_loc = Entry(location_Frame2,font=('Arial 12'))
location_loc.place(relx=0.05,rely=0.4, relwidth=1, relheight=0.2)

#  image name QR Code
Image_Frame3 = Frame(window,bg="gray")
Image_Frame3.place(relx=0.1,rely=0.55,relwidth=0.7,relheight=0.3)

Image_lable3 = Label(Image_Frame3,text="Enter the name of the QR Code: ",bg="gray",fg='white',font=('Arial',13,'bold'))
Image_lable3.place(relx=0.05,rely=0.2, relheight=0.08)

Image_name = Entry(Image_Frame3,font=('Arial 12'))
Image_name.place(relx=0.05,rely=0.4, relwidth=1, relheight=0.2)


#size for the QR Code
Size_Frame4 = Frame(window,bg="gray")
Size_Frame4.place(relx=0.1,rely=0.75,relwidth=0.7,relheight=0.2)

Size_lable4 = Label(Size_Frame4,text="Enter Image size from 1 to 40 with 1 being 21x21: ",
               bg="gray",fg='white',font=('Arial',13,'bold'))
Size_lable4.place(relx=0.05,rely=0.2, relheight=0.08)

Size_size = Entry(Size_Frame4,font=('Arial 12'))
Size_size.place(relx=0.05,rely=0.4, relwidth=0.5, relheight=0.2)

#Button and save the QR Code

qr_button = Button(window, text='Generate Code',font=('Arial ',12,'normal'),command=create_code)
qr_button.place(relx=0.35,rely=0.9, relwidth=0.25, relheight=0.05)



#window Pop will open to create QR
window.mainloop()

